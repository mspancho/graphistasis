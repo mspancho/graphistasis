{
 "cells": [
  {
   "cell_type": "markdown",
   "id": "20d1c589",
   "metadata": {},
   "source": [
    "# Graphistasis"
   ]
  },
  {
   "cell_type": "markdown",
   "id": "c59bed02",
   "metadata": {},
   "source": [
    "![Graphistasis](assets/Logo.png)"
   ]
  },
  {
   "cell_type": "markdown",
   "id": "dd437bb1",
   "metadata": {},
   "source": [
    "Using a Graph Neural Network to mine gene-gene (epistatic) interactions for neurologic disease in the BioSNAP DGMiner dataset."
   ]
  },
  {
   "cell_type": "markdown",
   "id": "a8155f02",
   "metadata": {},
   "source": [
    "### Set up .venv\n",
    "```bash\n",
    "brew install uv\n",
    "uv init\n",
    "uv venv --python 3.11\n",
    "source .venv/bin/activate\n",
    "\n",
    "uv add torch torch_geometric pandas numpy matplotlib seaborn scikit-learn tqdm pip ipykernel biopython pymedtermino\n",
    "\n",
    "# pip install pyg-lib\n",
    "```"
   ]
  },
  {
   "cell_type": "markdown",
   "id": "411d8080",
   "metadata": {},
   "source": [
    "### Import libraries"
   ]
  },
  {
   "cell_type": "code",
   "execution_count": 1,
   "id": "644860b4",
   "metadata": {},
   "outputs": [],
   "source": [
    "from scripts.utils import *\n",
    "from sklearn.metrics import accuracy_score\n",
    "from sklearn.model_selection import train_test_split\n",
    "from tqdm import tqdm\n",
    "import json\n",
    "import matplotlib.pyplot as plt\n",
    "import networkx as nx\n",
    "import numpy as np\n",
    "import pandas as pd\n",
    "import requests\n",
    "import seaborn as sns\n",
    "import torch\n",
    "import torch_geometric"
   ]
  },
  {
   "cell_type": "markdown",
   "id": "c959787b",
   "metadata": {},
   "source": [
    "### Run Data Set Up\n",
    "```bash\n",
    "bash scripts/unpack.sh\n",
    "```"
   ]
  },
  {
   "cell_type": "markdown",
   "id": "b1a9d9a0",
   "metadata": {},
   "source": [
    "### Filter the dataset"
   ]
  },
  {
   "cell_type": "code",
   "execution_count": 2,
   "id": "8132c6b3",
   "metadata": {},
   "outputs": [
    {
     "name": "stdout",
     "output_type": "stream",
     "text": [
      "Reading in DGMiner TSV file as DataFrame object...\n",
      "Filtering out missing values...\n",
      "Cleaning disease names...\n",
      "Dropping diseases that don't start with 'D'...\n"
     ]
    }
   ],
   "source": [
    "# All genes\n",
    "all = filter_data()"
   ]
  },
  {
   "cell_type": "code",
   "execution_count": 3,
   "id": "37de5abf",
   "metadata": {},
   "outputs": [],
   "source": [
    "diseases = pd.unique(all['# Disease(MESH)']).tolist()"
   ]
  },
  {
   "cell_type": "code",
   "execution_count": 4,
   "id": "60c95bc9",
   "metadata": {},
   "outputs": [],
   "source": [
    "# # Map the disease names from their MESH IDs\n",
    "# mesh_to_disease = mesh_to_name(diseases)\n",
    "# with open('data/mesh_to_disease.json', 'w') as f:\n",
    "#     json.dump(mesh_to_disease, f)"
   ]
  },
  {
   "cell_type": "code",
   "execution_count": 5,
   "id": "a43a9b50",
   "metadata": {},
   "outputs": [],
   "source": [
    "# Load the data\n",
    "with open('data/mesh_to_disease.json', 'r') as f:\n",
    "    mesh_to_disease = json.load(f)"
   ]
  },
  {
   "cell_type": "markdown",
   "id": "b26455db",
   "metadata": {},
   "source": [
    "### Create the Epistatic Interaction Dataset"
   ]
  },
  {
   "cell_type": "code",
   "execution_count": 6,
   "id": "6cb1ca58",
   "metadata": {},
   "outputs": [],
   "source": [
    "# Uniprot to Gene Names\n",
    "all_uniprot = pd.unique(all['Gene'])\n",
    "with open('data/all_uniprot.txt', 'w') as f:\n",
    "    for gene in all_uniprot:\n",
    "        f.write(f\"{gene}\\n\")"
   ]
  },
  {
   "cell_type": "markdown",
   "id": "7b140f4c",
   "metadata": {},
   "source": [
    "Upload the text file to this [website](https://www.uniprot.org/id-mapping). It will convert the Uniprot IDs to Gene names."
   ]
  },
  {
   "cell_type": "code",
   "execution_count": 7,
   "id": "6a0b8f39",
   "metadata": {},
   "outputs": [],
   "source": [
    "# Mapping dictionary\n",
    "uniprot_to_gene, gene_to_uniprot, from_to = create_mappings(file_path='data/gene_mapping.tsv')"
   ]
  },
  {
   "cell_type": "code",
   "execution_count": 8,
   "id": "4ae498ff",
   "metadata": {},
   "outputs": [],
   "source": [
    "access_key = \"97121fd52d13c24ff0ac6d80d8f0266e\"\n",
    "all_genes = pd.unique(from_to.To)\n",
    "gene_list = all_genes.tolist()"
   ]
  },
  {
   "cell_type": "markdown",
   "id": "d9f73254",
   "metadata": {},
   "source": [
    "Retrieve Epistatic Interaction data from BioGrid"
   ]
  },
  {
   "cell_type": "code",
   "execution_count": 9,
   "id": "ea0482c1",
   "metadata": {},
   "outputs": [],
   "source": [
    "# # Fetching epistatic interactions\n",
    "# gene_interactions = fetch_epistatic_interactions(gene_list, access_key)\n",
    "# with open('data/gene_interactions.json', 'w') as f:\n",
    "#     json.dump(gene_interactions, f)"
   ]
  },
  {
   "cell_type": "code",
   "execution_count": 10,
   "id": "b34202cb",
   "metadata": {},
   "outputs": [],
   "source": [
    "# Loading the epistatic interactions\n",
    "with open('data/gene_interactions.json', 'r') as f:\n",
    "    interactions = json.load(f)"
   ]
  },
  {
   "cell_type": "markdown",
   "id": "c68298ae",
   "metadata": {},
   "source": [
    "### Clean up the dataset"
   ]
  },
  {
   "cell_type": "code",
   "execution_count": 11,
   "id": "865edc9f",
   "metadata": {},
   "outputs": [],
   "source": [
    "all_dg = clean_and_map_data(all, uniprot_to_gene, mesh_to_disease, 'data/all_DG_clean.tsv')"
   ]
  },
  {
   "cell_type": "markdown",
   "id": "2aa46c40",
   "metadata": {},
   "source": [
    "### Generate the Epistatic Interaction tsv file"
   ]
  },
  {
   "cell_type": "code",
   "execution_count": 12,
   "id": "527bb1b6",
   "metadata": {},
   "outputs": [],
   "source": [
    "# generate_epistatic_interactions_tsv(interactions, gene_list, \"data/epistatic_interactions.tsv\")"
   ]
  },
  {
   "cell_type": "markdown",
   "id": "8b92cf5e",
   "metadata": {},
   "source": [
    "### Generate the Graph"
   ]
  },
  {
   "cell_type": "code",
   "execution_count": 13,
   "id": "731f7c95",
   "metadata": {},
   "outputs": [],
   "source": [
    "# epistatic_graph = generate_graph_from_tsv(\"data/epistatic_interactions.tsv\")\n",
    "# save_graph(epistatic_graph, \"graphs/epistatic_interactions.gml\")"
   ]
  },
  {
   "cell_type": "code",
   "execution_count": 14,
   "id": "5d7c6351",
   "metadata": {},
   "outputs": [],
   "source": [
    "epistatic_graph = load_graph(\"graphs/epistatic_interactions.gml\")"
   ]
  },
  {
   "cell_type": "code",
   "execution_count": null,
   "id": "1b5d0800",
   "metadata": {},
   "outputs": [],
   "source": [
    "plot_graph(epistatic_graph, \"figures/epistatic_interactions.png\")"
   ]
  },
  {
   "cell_type": "code",
   "execution_count": null,
   "id": "b84d3ff3",
   "metadata": {},
   "outputs": [],
   "source": [
    "dg_graph = generate_graph_from_tsv(\"data/all_DG_clean.tsv\")\n",
    "save_graph(dg_graph, \"graphs/dg_graph.gml\")"
   ]
  },
  {
   "cell_type": "code",
   "execution_count": null,
   "id": "a9381785",
   "metadata": {},
   "outputs": [],
   "source": [
    "dg_graph = load_graph(\"graphs/dg_graph.gml\")"
   ]
  },
  {
   "cell_type": "code",
   "execution_count": null,
   "id": "4f15da3b",
   "metadata": {},
   "outputs": [],
   "source": [
    "plot_graph(dg_graph, \"figures/dg_interactions.png\")"
   ]
  },
  {
   "cell_type": "code",
   "execution_count": null,
   "id": "71a027cf",
   "metadata": {},
   "outputs": [],
   "source": [
    "combined_graph = combine_graphs(epistatic_graph, dg_graph)\n",
    "save_graph(combined_graph, \"data/combined_graph.gml\")"
   ]
  },
  {
   "cell_type": "code",
   "execution_count": null,
   "id": "10fb37f4",
   "metadata": {},
   "outputs": [],
   "source": [
    "plot_graph(combined_graph, \"figures/combined_graph.png\")"
   ]
  }
 ],
 "metadata": {
  "kernelspec": {
   "display_name": ".venv",
   "language": "python",
   "name": "python3"
  },
  "language_info": {
   "codemirror_mode": {
    "name": "ipython",
    "version": 3
   },
   "file_extension": ".py",
   "mimetype": "text/x-python",
   "name": "python",
   "nbconvert_exporter": "python",
   "pygments_lexer": "ipython3",
   "version": "3.11.12"
  }
 },
 "nbformat": 4,
 "nbformat_minor": 5
}
