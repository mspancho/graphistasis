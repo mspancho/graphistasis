{
 "cells": [
  {
   "cell_type": "markdown",
   "id": "20d1c589",
   "metadata": {},
   "source": [
    "# Graphistasis"
   ]
  },
  {
   "cell_type": "markdown",
   "id": "c59bed02",
   "metadata": {},
   "source": [
    "![Graphistasis](assets/Logo.png)"
   ]
  },
  {
   "cell_type": "markdown",
   "id": "dd437bb1",
   "metadata": {},
   "source": [
    "Using a Graph Neural Network to mine gene-gene (epistatic) interactions for neurologic disease in the BioSNAP DGMiner dataset."
   ]
  },
  {
   "cell_type": "markdown",
   "id": "a8155f02",
   "metadata": {},
   "source": [
    "### Set up .venv\n",
    "```bash\n",
    "brew install uv\n",
    "uv init\n",
    "uv venv --python 3.11\n",
    "source .venv/bin/activate\n",
    "\n",
    "uv add torch torch_geometric pandas numpy matplotlib seaborn scikit-learn tqdm pip ipykernel biopython pymedtermino\n",
    "\n",
    "# pip install pyg-lib\n",
    "```"
   ]
  },
  {
   "cell_type": "markdown",
   "id": "411d8080",
   "metadata": {},
   "source": [
    "### Import libraries"
   ]
  },
  {
   "cell_type": "code",
   "execution_count": 1,
   "id": "644860b4",
   "metadata": {},
   "outputs": [],
   "source": [
    "from scripts.utils import *\n",
    "from sklearn.metrics import accuracy_score\n",
    "from sklearn.model_selection import train_test_split\n",
    "from tqdm import tqdm\n",
    "import json\n",
    "import matplotlib.pyplot as plt\n",
    "import networkx as nx\n",
    "import numpy as np\n",
    "import pandas as pd\n",
    "import requests\n",
    "import seaborn as sns\n",
    "import torch\n",
    "import torch_geometric"
   ]
  },
  {
   "cell_type": "markdown",
   "id": "c959787b",
   "metadata": {},
   "source": [
    "### Run Data Set Up\n",
    "```bash\n",
    "bash scripts/unpack.sh\n",
    "```"
   ]
  },
  {
   "cell_type": "markdown",
   "id": "b1a9d9a0",
   "metadata": {},
   "source": [
    "### Filter the dataset"
   ]
  },
  {
   "cell_type": "code",
   "execution_count": 2,
   "id": "8132c6b3",
   "metadata": {},
   "outputs": [
    {
     "name": "stdout",
     "output_type": "stream",
     "text": [
      "Reading in DGMiner TSV file as DataFrame object...\n",
      "Filtering out missing values...\n",
      "Cleaning disease names...\n",
      "Dropping diseases that don't start with 'D'...\n"
     ]
    }
   ],
   "source": [
    "# All genes\n",
    "all = filter_data()"
   ]
  },
  {
   "cell_type": "code",
   "execution_count": 3,
   "id": "37de5abf",
   "metadata": {},
   "outputs": [],
   "source": [
    "diseases = pd.unique(all['# Disease(MESH)']).tolist()"
   ]
  },
  {
   "cell_type": "code",
   "execution_count": 4,
   "id": "60c95bc9",
   "metadata": {},
   "outputs": [],
   "source": [
    "# # Map the disease names from their MESH IDs\n",
    "# mesh_to_disease = mesh_to_name(diseases)\n",
    "# with open('data/mesh_to_disease.json', 'w') as f:\n",
    "#     json.dump(mesh_to_disease, f)"
   ]
  },
  {
   "cell_type": "code",
   "execution_count": 5,
   "id": "a43a9b50",
   "metadata": {},
   "outputs": [],
   "source": [
    "# Load the data\n",
    "with open('data/mesh_to_disease.json', 'r') as f:\n",
    "    mesh_to_disease = json.load(f)"
   ]
  },
  {
   "cell_type": "markdown",
   "id": "b26455db",
   "metadata": {},
   "source": [
    "### Create the Epistatic Interaction Dataset"
   ]
  },
  {
   "cell_type": "code",
   "execution_count": 6,
   "id": "6cb1ca58",
   "metadata": {},
   "outputs": [],
   "source": [
    "# Uniprot to Gene Names\n",
    "all_uniprot = pd.unique(all['Gene'])\n",
    "with open('data/all_uniprot.txt', 'w') as f:\n",
    "    for gene in all_uniprot:\n",
    "        f.write(f\"{gene}\\n\")"
   ]
  },
  {
   "cell_type": "markdown",
   "id": "7b140f4c",
   "metadata": {},
   "source": [
    "Upload the text file to this [website](https://www.uniprot.org/id-mapping). It will convert the Uniprot IDs to Gene names."
   ]
  },
  {
   "cell_type": "code",
   "execution_count": 7,
   "id": "6a0b8f39",
   "metadata": {},
   "outputs": [],
   "source": [
    "# Mapping dictionary\n",
    "uniprot_to_gene, gene_to_uniprot, from_to = create_mappings(file_path='data/gene_mapping.tsv')"
   ]
  },
  {
   "cell_type": "code",
   "execution_count": 8,
   "id": "4ae498ff",
   "metadata": {},
   "outputs": [],
   "source": [
    "access_key = \"97121fd52d13c24ff0ac6d80d8f0266e\"\n",
    "all_genes = pd.unique(from_to.To)\n",
    "gene_list = all_genes.tolist()"
   ]
  },
  {
   "cell_type": "markdown",
   "id": "d9f73254",
   "metadata": {},
   "source": [
    "Retrieve Epistatic Interaction data from BioGrid"
   ]
  },
  {
   "cell_type": "code",
   "execution_count": 9,
   "id": "ea0482c1",
   "metadata": {},
   "outputs": [],
   "source": [
    "# # Fetching epistatic interactions\n",
    "# gene_interactions = fetch_epistatic_interactions(gene_list, access_key)\n",
    "# with open('data/gene_interactions.json', 'w') as f:\n",
    "#     json.dump(gene_interactions, f)"
   ]
  },
  {
   "cell_type": "code",
   "execution_count": 10,
   "id": "b34202cb",
   "metadata": {},
   "outputs": [],
   "source": [
    "# Loading the epistatic interactions\n",
    "with open('data/gene_interactions.json', 'r') as f:\n",
    "    interactions = json.load(f)"
   ]
  },
  {
   "cell_type": "markdown",
   "id": "c68298ae",
   "metadata": {},
   "source": [
    "### Clean up the dataset"
   ]
  },
  {
   "cell_type": "code",
   "execution_count": 11,
   "id": "865edc9f",
   "metadata": {},
   "outputs": [],
   "source": [
    "all_dg = clean_and_map_data(all, uniprot_to_gene, mesh_to_disease, 'data/all_DG_clean.tsv')"
   ]
  },
  {
   "cell_type": "markdown",
   "id": "2aa46c40",
   "metadata": {},
   "source": [
    "### Generate the Epistatic Interaction tsv file"
   ]
  },
  {
   "cell_type": "code",
   "execution_count": null,
   "id": "527bb1b6",
   "metadata": {},
   "outputs": [
    {
     "name": "stderr",
     "output_type": "stream",
     "text": [
      "Processing Interactions: 100%|██████████| 17745/17745 [00:00<00:00, 28070.29it/s]\n"
     ]
    },
    {
     "name": "stdout",
     "output_type": "stream",
     "text": [
      "Epistatic interactions TSV file saved to data/epistatic_interactions.tsv\n"
     ]
    },
    {
     "data": {
      "application/vnd.microsoft.datawrangler.viewer.v0+json": {
       "columns": [
        {
         "name": "index",
         "rawType": "int64",
         "type": "integer"
        },
        {
         "name": "Gene1",
         "rawType": "object",
         "type": "string"
        },
        {
         "name": "Gene2",
         "rawType": "object",
         "type": "string"
        }
       ],
       "conversionMethod": "pd.DataFrame",
       "ref": "8232928a-3ca6-4c03-8ed5-80a71f90e51c",
       "rows": [
        [
         "0",
         "PPIP5K2",
         "VAC14"
        ],
        [
         "1",
         "PPIP5K2",
         "WDR74"
        ],
        [
         "2",
         "PPIP5K2",
         "WDR6"
        ],
        [
         "3",
         "PPIP5K2",
         "ZC3H15"
        ],
        [
         "4",
         "PPIP5K2",
         "ZBTB8B"
        ],
        [
         "5",
         "PPIP5K2",
         "NTRK1"
        ],
        [
         "6",
         "PPIP5K2",
         "CETN1"
        ],
        [
         "7",
         "PPIP5K2",
         "IL17RA"
        ],
        [
         "8",
         "PPIP5K2",
         "DEF8"
        ],
        [
         "9",
         "PPIP5K2",
         "CELA3A"
        ],
        [
         "10",
         "PPIP5K2",
         "PLEC"
        ],
        [
         "11",
         "PPIP5K2",
         "AAK1"
        ],
        [
         "12",
         "PPIP5K2",
         "SEC24B"
        ],
        [
         "13",
         "PPIP5K2",
         "CCDC88A"
        ],
        [
         "14",
         "PPIP5K2",
         "LUZP1"
        ],
        [
         "15",
         "PPIP5K2",
         "NUP88"
        ],
        [
         "16",
         "PPIP5K2",
         "URGCP"
        ],
        [
         "17",
         "PPIP5K2",
         "EYA4"
        ],
        [
         "18",
         "PPIP5K2",
         "UBE2D2"
        ],
        [
         "19",
         "PPIP5K2",
         "ARFGAP3"
        ],
        [
         "20",
         "PPIP5K2",
         "AHNAK"
        ],
        [
         "21",
         "PPIP5K2",
         "EGLN3"
        ],
        [
         "22",
         "PPIP5K2",
         "EEA1"
        ],
        [
         "23",
         "PPIP5K2",
         "NR2C2"
        ],
        [
         "24",
         "PPIP5K2",
         "BICD2"
        ],
        [
         "25",
         "PPIP5K2",
         "POU6F2"
        ],
        [
         "26",
         "PPIP5K2",
         "POU2F1"
        ],
        [
         "27",
         "PPIP5K2",
         "SMARCC1"
        ],
        [
         "28",
         "PPIP5K2",
         "HNRNPA2B1"
        ],
        [
         "29",
         "PPIP5K2",
         "DNMBP"
        ],
        [
         "30",
         "PPIP5K2",
         "DUSP16"
        ],
        [
         "31",
         "PPIP5K2",
         "CELA3A"
        ],
        [
         "32",
         "PPIP5K2",
         "MAD2L1"
        ],
        [
         "33",
         "PPIP5K2",
         "PTGES3"
        ],
        [
         "34",
         "PPIP5K2",
         "IL3RA"
        ],
        [
         "35",
         "PPIP5K2",
         "CETN1"
        ],
        [
         "36",
         "PPIP5K2",
         "CAPN2"
        ],
        [
         "37",
         "PPIP5K2",
         "PIAS4"
        ],
        [
         "38",
         "PPIP5K2",
         "YWHAQ"
        ],
        [
         "39",
         "PPIP5K2",
         "DEF8"
        ],
        [
         "40",
         "PPIP5K2",
         "HSPA1A"
        ],
        [
         "41",
         "PPIP5K2",
         "YWHAH"
        ],
        [
         "42",
         "PPIP5K2",
         "YWHAG"
        ],
        [
         "43",
         "PPIP5K2",
         "YWHAB"
        ],
        [
         "44",
         "PPIP5K2",
         "BAG2"
        ],
        [
         "45",
         "PPIP5K2",
         "ANKRD28"
        ],
        [
         "46",
         "PPIP5K2",
         "COPA"
        ],
        [
         "47",
         "PPIP5K2",
         "COPB2"
        ],
        [
         "48",
         "PPIP5K2",
         "COPE"
        ],
        [
         "49",
         "PPIP5K2",
         "NUP88"
        ]
       ],
       "shape": {
        "columns": 2,
        "rows": 3964694
       }
      },
      "text/html": [
       "<div>\n",
       "<style scoped>\n",
       "    .dataframe tbody tr th:only-of-type {\n",
       "        vertical-align: middle;\n",
       "    }\n",
       "\n",
       "    .dataframe tbody tr th {\n",
       "        vertical-align: top;\n",
       "    }\n",
       "\n",
       "    .dataframe thead th {\n",
       "        text-align: right;\n",
       "    }\n",
       "</style>\n",
       "<table border=\"1\" class=\"dataframe\">\n",
       "  <thead>\n",
       "    <tr style=\"text-align: right;\">\n",
       "      <th></th>\n",
       "      <th>Gene1</th>\n",
       "      <th>Gene2</th>\n",
       "    </tr>\n",
       "  </thead>\n",
       "  <tbody>\n",
       "    <tr>\n",
       "      <th>0</th>\n",
       "      <td>PPIP5K2</td>\n",
       "      <td>VAC14</td>\n",
       "    </tr>\n",
       "    <tr>\n",
       "      <th>1</th>\n",
       "      <td>PPIP5K2</td>\n",
       "      <td>WDR74</td>\n",
       "    </tr>\n",
       "    <tr>\n",
       "      <th>2</th>\n",
       "      <td>PPIP5K2</td>\n",
       "      <td>WDR6</td>\n",
       "    </tr>\n",
       "    <tr>\n",
       "      <th>3</th>\n",
       "      <td>PPIP5K2</td>\n",
       "      <td>ZC3H15</td>\n",
       "    </tr>\n",
       "    <tr>\n",
       "      <th>4</th>\n",
       "      <td>PPIP5K2</td>\n",
       "      <td>ZBTB8B</td>\n",
       "    </tr>\n",
       "    <tr>\n",
       "      <th>...</th>\n",
       "      <td>...</td>\n",
       "      <td>...</td>\n",
       "    </tr>\n",
       "    <tr>\n",
       "      <th>3964689</th>\n",
       "      <td>DAZ3</td>\n",
       "      <td>CFTR</td>\n",
       "    </tr>\n",
       "    <tr>\n",
       "      <th>3964690</th>\n",
       "      <td>HLA-DQA2</td>\n",
       "      <td>LHFPL5</td>\n",
       "    </tr>\n",
       "    <tr>\n",
       "      <th>3964691</th>\n",
       "      <td>HLA-DQA2</td>\n",
       "      <td>HLA-DQA1</td>\n",
       "    </tr>\n",
       "    <tr>\n",
       "      <th>3964692</th>\n",
       "      <td>HLA-DQA2</td>\n",
       "      <td>LHFPL5</td>\n",
       "    </tr>\n",
       "    <tr>\n",
       "      <th>3964693</th>\n",
       "      <td>HLA-DQA2</td>\n",
       "      <td>HLA-DQA1</td>\n",
       "    </tr>\n",
       "  </tbody>\n",
       "</table>\n",
       "<p>3964694 rows × 2 columns</p>\n",
       "</div>"
      ],
      "text/plain": [
       "            Gene1     Gene2\n",
       "0         PPIP5K2     VAC14\n",
       "1         PPIP5K2     WDR74\n",
       "2         PPIP5K2      WDR6\n",
       "3         PPIP5K2    ZC3H15\n",
       "4         PPIP5K2    ZBTB8B\n",
       "...           ...       ...\n",
       "3964689      DAZ3      CFTR\n",
       "3964690  HLA-DQA2    LHFPL5\n",
       "3964691  HLA-DQA2  HLA-DQA1\n",
       "3964692  HLA-DQA2    LHFPL5\n",
       "3964693  HLA-DQA2  HLA-DQA1\n",
       "\n",
       "[3964694 rows x 2 columns]"
      ]
     },
     "execution_count": 12,
     "metadata": {},
     "output_type": "execute_result"
    }
   ],
   "source": [
    "# generate_epistatic_interactions_tsv(interactions, gene_list, \"data/epistatic_interactions.tsv\")"
   ]
  },
  {
   "cell_type": "markdown",
   "id": "8b92cf5e",
   "metadata": {},
   "source": [
    "### Generate the Graph"
   ]
  },
  {
   "cell_type": "code",
   "execution_count": null,
   "id": "731f7c95",
   "metadata": {},
   "outputs": [],
   "source": [
    "epistatic_graph = generate_graph_from_tsv(\"data/epistatic_interactions.tsv\")\n",
    "plot_graph(epistatic_graph, \"figures/epistatic_interactions.png\")"
   ]
  },
  {
   "cell_type": "code",
   "execution_count": null,
   "id": "b84d3ff3",
   "metadata": {},
   "outputs": [],
   "source": [
    "dg_graph = generate_graph_from_tsv(\"data/all_DG_clean.tsv\")\n",
    "plot_graph(dg_graph, \"figures/disease_gene_interactions.png\")"
   ]
  },
  {
   "cell_type": "code",
   "execution_count": null,
   "id": "351a6644",
   "metadata": {},
   "outputs": [],
   "source": [
    "dg_and_epistatic = generate_graph_from_tsvs([\"data/all_DG_clean.tsv\", \"data/epistatic_interactions.tsv\"])\n",
    "plot_graph(dg_and_epistatic, \"figures/disease_gene_interactions_and_epistatic.png\")"
   ]
  }
 ],
 "metadata": {
  "kernelspec": {
   "display_name": ".venv",
   "language": "python",
   "name": "python3"
  },
  "language_info": {
   "codemirror_mode": {
    "name": "ipython",
    "version": 3
   },
   "file_extension": ".py",
   "mimetype": "text/x-python",
   "name": "python",
   "nbconvert_exporter": "python",
   "pygments_lexer": "ipython3",
   "version": "3.11.12"
  }
 },
 "nbformat": 4,
 "nbformat_minor": 5
}
