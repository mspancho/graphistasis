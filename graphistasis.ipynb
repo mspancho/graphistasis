{
 "cells": [
  {
   "cell_type": "markdown",
   "id": "20d1c589",
   "metadata": {},
   "source": [
    "# Graphistasis"
   ]
  },
  {
   "cell_type": "markdown",
   "id": "f53e097a",
   "metadata": {},
   "source": [
    "![GraphiStasis](https://github.com/user-attachments/assets/ca2b7563-156a-4044-bbc1-799dfdfb9989)"
   ]
  },
  {
   "cell_type": "markdown",
   "id": "dd437bb1",
   "metadata": {},
   "source": [
    "Using a Graph Neural Network to mine gene-gene (epistatic) interactions for neurologic disease in the BioSNAP DGMiner dataset."
   ]
  },
  {
   "cell_type": "markdown",
   "id": "a8155f02",
   "metadata": {},
   "source": [
    "### Set up .venv\n",
    "```bash\n",
    "brew install uv\n",
    "uv init\n",
    "uv add torch torch_geometric torch-scatter torch-sparse pandas numpy matplotlib seaborn scikit-learn tqdm\n",
    "pip install pyg-lib\n",
    "```"
   ]
  }
 ],
 "metadata": {
  "language_info": {
   "name": "python"
  }
 },
 "nbformat": 4,
 "nbformat_minor": 5
}
